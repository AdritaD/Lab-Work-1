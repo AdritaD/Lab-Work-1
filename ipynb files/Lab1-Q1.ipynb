{
  "nbformat": 4,
  "nbformat_minor": 0,
  "metadata": {
    "colab": {
      "name": "Untitled4.ipynb",
      "version": "0.3.2",
      "provenance": []
    },
    "kernelspec": {
      "name": "python3",
      "display_name": "Python 3"
    }
  },
  "cells": [
    {
      "metadata": {
        "id": "0VXJZbiSmXhl",
        "colab_type": "code",
        "colab": {}
      },
      "cell_type": "code",
      "source": [
        "from sklearn.neural_network import MLPClassifier"
      ],
      "execution_count": 0,
      "outputs": []
    },
    {
      "metadata": {
        "id": "fy1k9H8gmcMr",
        "colab_type": "code",
        "colab": {}
      },
      "cell_type": "code",
      "source": [
        "X= [[0., 0.], [0., 1.], [1., 0.], [1., 1.]]\n",
        "\n",
        "Y= [0., 1., 1.,0.]"
      ],
      "execution_count": 0,
      "outputs": []
    },
    {
      "metadata": {
        "id": "r9-PD42kmgdY",
        "colab_type": "code",
        "colab": {}
      },
      "cell_type": "code",
      "source": [
        "clf= MLPClassifier(hidden_layer_sizes=(2), solver='lbfgs', random_state=6, learning_rate= 'adaptive', max_iter=500)"
      ],
      "execution_count": 0,
      "outputs": []
    },
    {
      "metadata": {
        "id": "KBsc-LtrmmPM",
        "colab_type": "code",
        "colab": {
          "base_uri": "https://localhost:8080/",
          "height": 139
        },
        "outputId": "d95a9f4c-2e66-4b13-b075-81de8fbc812a"
      },
      "cell_type": "code",
      "source": [
        "clf.fit(X,Y)"
      ],
      "execution_count": 4,
      "outputs": [
        {
          "output_type": "execute_result",
          "data": {
            "text/plain": [
              "MLPClassifier(activation='relu', alpha=0.0001, batch_size='auto', beta_1=0.9,\n",
              "       beta_2=0.999, early_stopping=False, epsilon=1e-08,\n",
              "       hidden_layer_sizes=2, learning_rate='adaptive',\n",
              "       learning_rate_init=0.001, max_iter=500, momentum=0.9,\n",
              "       nesterovs_momentum=True, power_t=0.5, random_state=6, shuffle=True,\n",
              "       solver='lbfgs', tol=0.0001, validation_fraction=0.1, verbose=False,\n",
              "       warm_start=False)"
            ]
          },
          "metadata": {
            "tags": []
          },
          "execution_count": 4
        }
      ]
    },
    {
      "metadata": {
        "id": "P3i651eCmrPn",
        "colab_type": "code",
        "colab": {
          "base_uri": "https://localhost:8080/",
          "height": 35
        },
        "outputId": "ef021095-2061-4d94-f106-497b89855c58"
      },
      "cell_type": "code",
      "source": [
        "clf.predict(X)"
      ],
      "execution_count": 5,
      "outputs": [
        {
          "output_type": "execute_result",
          "data": {
            "text/plain": [
              "array([0., 1., 1., 0.])"
            ]
          },
          "metadata": {
            "tags": []
          },
          "execution_count": 5
        }
      ]
    },
    {
      "metadata": {
        "id": "z81z1hmqmyoM",
        "colab_type": "code",
        "colab": {
          "base_uri": "https://localhost:8080/",
          "height": 35
        },
        "outputId": "240e232e-7da0-4703-be7a-463dd043f3fe"
      },
      "cell_type": "code",
      "source": [
        "#Training error\n",
        "clf.loss_\n"
      ],
      "execution_count": 6,
      "outputs": [
        {
          "output_type": "execute_result",
          "data": {
            "text/plain": [
              "0.0020524497656838627"
            ]
          },
          "metadata": {
            "tags": []
          },
          "execution_count": 6
        }
      ]
    },
    {
      "metadata": {
        "id": "WQOn5cCam14Z",
        "colab_type": "code",
        "colab": {
          "base_uri": "https://localhost:8080/",
          "height": 35
        },
        "outputId": "a5ac6677-ffbc-43ed-fddc-78c5be0acb16"
      },
      "cell_type": "code",
      "source": [
        "#Intercept/Bias values\n",
        "clf.intercepts_"
      ],
      "execution_count": 7,
      "outputs": [
        {
          "output_type": "execute_result",
          "data": {
            "text/plain": [
              "[array([-2.03829407,  2.90611393]), array([7.26301464])]"
            ]
          },
          "metadata": {
            "tags": []
          },
          "execution_count": 7
        }
      ]
    },
    {
      "metadata": {
        "id": "Z8XhbJTsm6AZ",
        "colab_type": "code",
        "colab": {
          "base_uri": "https://localhost:8080/",
          "height": 69
        },
        "outputId": "535fcb07-45fe-41d3-86bc-89d36015cccb"
      },
      "cell_type": "code",
      "source": [
        "#Weights to each neuron\n",
        "clf.coefs_ "
      ],
      "execution_count": 8,
      "outputs": [
        {
          "output_type": "execute_result",
          "data": {
            "text/plain": [
              "[array([[ 2.03285044, -3.05323011],\n",
              "        [ 2.03829407, -4.17609274]]), array([[-8.03970899],\n",
              "        [-5.68110094]])]"
            ]
          },
          "metadata": {
            "tags": []
          },
          "execution_count": 8
        }
      ]
    }
  ]
}